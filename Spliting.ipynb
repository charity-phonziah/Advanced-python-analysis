{
 "cells": [
  {
   "cell_type": "markdown",
   "id": "d62cd0c0-59bd-49a2-ba39-6e4ad7af6a96",
   "metadata": {},
   "source": [
    "## Splitting Columns"
   ]
  },
  {
   "cell_type": "code",
   "execution_count": null,
   "id": "7f9bfa85-a3d8-42a9-9498-fd6a01208883",
   "metadata": {},
   "outputs": [],
   "source": [
    "df[['Min', 'Max']] = df['agegroup'].str.split('-',expand =True)# expand tells python to split the columns to two\n",
    "df['Min'] =df['Min'].astype(int)\n",
    "df['Max'] =df['Max'].astype(int)\n",
    "df"
   ]
  }
 ],
 "metadata": {
  "kernelspec": {
   "display_name": "Python 3 (ipykernel)",
   "language": "python",
   "name": "python3"
  },
  "language_info": {
   "codemirror_mode": {
    "name": "ipython",
    "version": 3
   },
   "file_extension": ".py",
   "mimetype": "text/x-python",
   "name": "python",
   "nbconvert_exporter": "python",
   "pygments_lexer": "ipython3",
   "version": "3.12.4"
  }
 },
 "nbformat": 4,
 "nbformat_minor": 5
}
